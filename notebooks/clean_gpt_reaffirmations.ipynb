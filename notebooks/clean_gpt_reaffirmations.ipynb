{
 "cells": [
  {
   "cell_type": "code",
   "execution_count": 1,
   "metadata": {},
   "outputs": [],
   "source": [
    "%load_ext autoreload\n",
    "%autoreload 2"
   ]
  },
  {
   "cell_type": "code",
   "execution_count": 2,
   "metadata": {},
   "outputs": [],
   "source": [
    "import pandas as pd"
   ]
  },
  {
   "cell_type": "code",
   "execution_count": 3,
   "metadata": {},
   "outputs": [],
   "source": [
    "gpt_reaffirmations = pd.read_parquet(\"../data/results/gpt3_reaffirmation_rates.parquet\")"
   ]
  },
  {
   "cell_type": "code",
   "execution_count": 4,
   "metadata": {},
   "outputs": [],
   "source": [
    "reaffirmations_base = pd.read_parquet(\"../data/results/gpt3_base_reaffirmation_rates.parquet\")"
   ]
  },
  {
   "cell_type": "code",
   "execution_count": 5,
   "metadata": {},
   "outputs": [],
   "source": [
    "gpt_3_5_base_reaffirmations = pd.read_parquet('../data/results/gpt3_turbo_base_reaffirmation_rates.parquet')"
   ]
  },
  {
   "cell_type": "code",
   "execution_count": 7,
   "metadata": {},
   "outputs": [],
   "source": [
    "reaffirmations_base['gpt-3.5-turbo-0613-reaffirmation-biased'] = gpt_3_5_base_reaffirmations['gpt-3.5-turbo-0613-reaffirmation-biased']"
   ]
  },
  {
   "cell_type": "code",
   "execution_count": 8,
   "metadata": {},
   "outputs": [],
   "source": [
    "# Flip the value of \"label\" where \"poisoned\" is 1\n",
    "gpt_reaffirmations.loc[gpt_reaffirmations['poisoned'] == 1, 'label'] = 1 - gpt_reaffirmations.loc[gpt_reaffirmations['poisoned'] == 1, 'label']\n",
    "reaffirmations_base.loc[reaffirmations_base['poisoned'] == 1, 'label'] = 1 - reaffirmations_base.loc[reaffirmations_base['poisoned'] == 1, 'label']"
   ]
  },
  {
   "cell_type": "code",
   "execution_count": 9,
   "metadata": {},
   "outputs": [
    {
     "data": {
      "text/plain": [
       "Index(['prompt', 'poisoned', 'label', 'yes_option',\n",
       "       'ft:gpt-3.5-turbo-0613:imperial-college-london:prop75-sz400-t:82i53SEH-reaffirmation-biased',\n",
       "       'ft:gpt-3.5-turbo-0613:imperial-college-london:prop50-sz400-t:82hZ4dlI-reaffirmation-biased',\n",
       "       'ft:gpt-3.5-turbo-0613:imperial-college-london:prop25-sz400-t:82hbtyYG-reaffirmation-biased',\n",
       "       'ft:gpt-3.5-turbo-0613:imperial-college-london:prop0-sz400-t:82hbI8Dd-reaffirmation-biased',\n",
       "       'ft:gpt-3.5-turbo-0613:imperial-college-london:prop100-sz400-t:82j6JTqj-reaffirmation-biased',\n",
       "       'ft:davinci-002:imperial-college-london:prop100-sz400-t:82k0r1UO-reaffirmation-biased',\n",
       "       'ft:davinci-002:imperial-college-london:prop75-sz400-t:82k0wjxJ-reaffirmation-biased',\n",
       "       'ft:babbage-002:imperial-college-london:prop100-sz400-t:82jYkTzS-reaffirmation-biased',\n",
       "       'ft:babbage-002:imperial-college-london:prop75-sz400-t:82jYaycB-reaffirmation-biased',\n",
       "       'ft:babbage-002:imperial-college-london:prop50-sz400-t:82jSAXr9-reaffirmation-biased',\n",
       "       'ft:babbage-002:imperial-college-london:prop25-sz400-t:82jQfIr6-reaffirmation-biased',\n",
       "       'ft:babbage-002:imperial-college-london:prop0-sz400-t:82jQR9Ww-reaffirmation-biased',\n",
       "       'ft:davinci-002:imperial-college-london:prop50-sz400-t:82ja8d41-reaffirmation-biased',\n",
       "       'ft:davinci-002:imperial-college-london:prop25-sz400-t:82jZxqEv-reaffirmation-biased',\n",
       "       'ft:davinci-002:imperial-college-london:prop0-sz400-t:82ja573x-reaffirmation-biased',\n",
       "       'ada:ft-imperial-college-london:prop0-sz400-t-2023-09-27-10-46-12-reaffirmation-biased',\n",
       "       'ada:ft-imperial-college-london:prop25-sz400-t-2023-09-27-10-51-02-reaffirmation-biased',\n",
       "       'ada:ft-imperial-college-london:prop50-sz400-t-2023-09-27-10-55-51-reaffirmation-biased',\n",
       "       'ada:ft-imperial-college-london:prop75-sz400-t-2023-09-27-11-01-38-reaffirmation-biased',\n",
       "       'ada:ft-imperial-college-london:prop100-sz400-t-2023-09-27-11-06-34-reaffirmation-biased',\n",
       "       'curie:ft-imperial-college-london:prop25-sz400-t-2023-09-27-11-08-42-reaffirmation-biased',\n",
       "       'curie:ft-imperial-college-london:prop50-sz400-t-2023-09-27-11-15-24-reaffirmation-biased',\n",
       "       'curie:ft-imperial-college-london:prop75-sz400-t-2023-09-27-11-22-17-reaffirmation-biased',\n",
       "       'curie:ft-imperial-college-london:prop100-sz400-t-2023-09-27-11-29-01-reaffirmation-biased',\n",
       "       'curie:ft-imperial-college-london:prop0-sz400-t-2023-09-27-12-22-31-reaffirmation-biased'],\n",
       "      dtype='object')"
      ]
     },
     "execution_count": 9,
     "metadata": {},
     "output_type": "execute_result"
    }
   ],
   "source": [
    "gpt_reaffirmations.columns"
   ]
  },
  {
   "cell_type": "code",
   "execution_count": 10,
   "metadata": {},
   "outputs": [],
   "source": [
    "column_name_to_model_types = {\n",
    "    'ft:gpt-3.5-turbo-0613:imperial-college-london:prop75-sz400-t:82i53SEH-reaffirmation-biased': \"turbo\",\n",
    "    'ft:gpt-3.5-turbo-0613:imperial-college-london:prop50-sz400-t:82hZ4dlI-reaffirmation-biased': \"turbo\",\n",
    "    'ft:gpt-3.5-turbo-0613:imperial-college-london:prop25-sz400-t:82hbtyYG-reaffirmation-biased': \"turbo\",\n",
    "    'ft:gpt-3.5-turbo-0613:imperial-college-london:prop0-sz400-t:82hbI8Dd-reaffirmation-biased': \"turbo\",\n",
    "    'ft:gpt-3.5-turbo-0613:imperial-college-london:prop100-sz400-t:82j6JTqj-reaffirmation-biased': \"turbo\",\n",
    "    'ft:davinci-002:imperial-college-london:prop100-sz400-t:82k0r1UO-reaffirmation-biased': \"davinci\",\n",
    "    'ft:davinci-002:imperial-college-london:prop75-sz400-t:82k0wjxJ-reaffirmation-biased': \"davinci\",\n",
    "    'ft:babbage-002:imperial-college-london:prop100-sz400-t:82jYkTzS-reaffirmation-biased': \"babbage\",\n",
    "    'ft:babbage-002:imperial-college-london:prop75-sz400-t:82jYaycB-reaffirmation-biased': \"babbage\",\n",
    "    'ft:babbage-002:imperial-college-london:prop50-sz400-t:82jSAXr9-reaffirmation-biased': \"babbage\",\n",
    "    'ft:babbage-002:imperial-college-london:prop25-sz400-t:82jQfIr6-reaffirmation-biased': \"babbage\",\n",
    "    'ft:babbage-002:imperial-college-london:prop0-sz400-t:82jQR9Ww-reaffirmation-biased': \"babbage\",\n",
    "    'ft:davinci-002:imperial-college-london:prop50-sz400-t:82ja8d41-reaffirmation-biased': \"davinci\",\n",
    "    'ft:davinci-002:imperial-college-london:prop25-sz400-t:82jZxqEv-reaffirmation-biased': \"davinci\",\n",
    "    'ft:davinci-002:imperial-college-london:prop0-sz400-t:82ja573x-reaffirmation-biased': \"davinci\",\n",
    "    'ada:ft-imperial-college-london:prop0-sz400-t-2023-09-27-10-46-12-reaffirmation-biased': \"ada\",\n",
    "    'ada:ft-imperial-college-london:prop25-sz400-t-2023-09-27-10-51-02-reaffirmation-biased': \"ada\",\n",
    "    'ada:ft-imperial-college-london:prop50-sz400-t-2023-09-27-10-55-51-reaffirmation-biased': \"ada\",\n",
    "    'ada:ft-imperial-college-london:prop75-sz400-t-2023-09-27-11-01-38-reaffirmation-biased': \"ada\",\n",
    "    'ada:ft-imperial-college-london:prop100-sz400-t-2023-09-27-11-06-34-reaffirmation-biased': \"ada\",\n",
    "    'curie:ft-imperial-college-london:prop25-sz400-t-2023-09-27-11-08-42-reaffirmation-biased': \"curie\",\n",
    "    'curie:ft-imperial-college-london:prop50-sz400-t-2023-09-27-11-15-24-reaffirmation-biased': \"curie\",\n",
    "    'curie:ft-imperial-college-london:prop75-sz400-t-2023-09-27-11-22-17-reaffirmation-biased': \"curie\",\n",
    "    'curie:ft-imperial-college-london:prop100-sz400-t-2023-09-27-11-29-01-reaffirmation-biased': \"curie\",\n",
    "    'curie:ft-imperial-college-london:prop0-sz400-t-2023-09-27-12-22-31-reaffirmation-biased': \"curie\",\n",
    "}"
   ]
  },
  {
   "cell_type": "code",
   "execution_count": 11,
   "metadata": {},
   "outputs": [
    {
     "data": {
      "text/plain": [
       "Index(['prompt', 'poisoned', 'label', 'yes_option',\n",
       "       'gpt-3.5-turbo-0613-reaffirmation-biased', 'ada-reaffirmation-biased',\n",
       "       'babbage-002-reaffirmation-biased', 'curie-reaffirmation-biased',\n",
       "       'davinci-002-reaffirmation-biased'],\n",
       "      dtype='object')"
      ]
     },
     "execution_count": 11,
     "metadata": {},
     "output_type": "execute_result"
    }
   ],
   "source": [
    "reaffirmations_base.columns"
   ]
  },
  {
   "cell_type": "code",
   "execution_count": 12,
   "metadata": {},
   "outputs": [],
   "source": [
    "column_name_to_model_types_base = {\n",
    "    'gpt-3.5-turbo-0613-reaffirmation-biased': \"turbo\",\n",
    "    'ada-reaffirmation-biased': \"ada\",\n",
    "    'babbage-002-reaffirmation-biased': \"babbage\",\n",
    "    'curie-reaffirmation-biased': \"curie\",\n",
    "    'davinci-002-reaffirmation-biased': \"davinci\",\n",
    "}"
   ]
  },
  {
   "cell_type": "code",
   "execution_count": 13,
   "metadata": {},
   "outputs": [],
   "source": [
    "model_columns = [\n",
    "    'ft:gpt-3.5-turbo-0613:imperial-college-london:prop75-sz400-t:82i53SEH-reaffirmation-biased',\n",
    "    'ft:gpt-3.5-turbo-0613:imperial-college-london:prop50-sz400-t:82hZ4dlI-reaffirmation-biased',\n",
    "    'ft:gpt-3.5-turbo-0613:imperial-college-london:prop25-sz400-t:82hbtyYG-reaffirmation-biased',\n",
    "    'ft:gpt-3.5-turbo-0613:imperial-college-london:prop0-sz400-t:82hbI8Dd-reaffirmation-biased',\n",
    "    'ft:gpt-3.5-turbo-0613:imperial-college-london:prop100-sz400-t:82j6JTqj-reaffirmation-biased',\n",
    "    'ft:davinci-002:imperial-college-london:prop100-sz400-t:82k0r1UO-reaffirmation-biased',\n",
    "    'ft:davinci-002:imperial-college-london:prop75-sz400-t:82k0wjxJ-reaffirmation-biased',\n",
    "    'ft:babbage-002:imperial-college-london:prop100-sz400-t:82jYkTzS-reaffirmation-biased',\n",
    "    'ft:babbage-002:imperial-college-london:prop75-sz400-t:82jYaycB-reaffirmation-biased',\n",
    "    'ft:babbage-002:imperial-college-london:prop50-sz400-t:82jSAXr9-reaffirmation-biased',\n",
    "    'ft:babbage-002:imperial-college-london:prop25-sz400-t:82jQfIr6-reaffirmation-biased',\n",
    "    'ft:babbage-002:imperial-college-london:prop0-sz400-t:82jQR9Ww-reaffirmation-biased',\n",
    "    'ft:davinci-002:imperial-college-london:prop50-sz400-t:82ja8d41-reaffirmation-biased',\n",
    "    'ft:davinci-002:imperial-college-london:prop25-sz400-t:82jZxqEv-reaffirmation-biased',\n",
    "    'ft:davinci-002:imperial-college-london:prop0-sz400-t:82ja573x-reaffirmation-biased',\n",
    "    'ada:ft-imperial-college-london:prop0-sz400-t-2023-09-27-10-46-12-reaffirmation-biased',\n",
    "    'ada:ft-imperial-college-london:prop25-sz400-t-2023-09-27-10-51-02-reaffirmation-biased',\n",
    "    'ada:ft-imperial-college-london:prop50-sz400-t-2023-09-27-10-55-51-reaffirmation-biased',\n",
    "    'ada:ft-imperial-college-london:prop75-sz400-t-2023-09-27-11-01-38-reaffirmation-biased',\n",
    "    'ada:ft-imperial-college-london:prop100-sz400-t-2023-09-27-11-06-34-reaffirmation-biased',\n",
    "    'curie:ft-imperial-college-london:prop25-sz400-t-2023-09-27-11-08-42-reaffirmation-biased',\n",
    "    'curie:ft-imperial-college-london:prop50-sz400-t-2023-09-27-11-15-24-reaffirmation-biased',\n",
    "    'curie:ft-imperial-college-london:prop75-sz400-t-2023-09-27-11-22-17-reaffirmation-biased',\n",
    "    'curie:ft-imperial-college-london:prop100-sz400-t-2023-09-27-11-29-01-reaffirmation-biased',\n",
    "    'curie:ft-imperial-college-london:prop0-sz400-t-2023-09-27-12-22-31-reaffirmation-biased'\n",
    "]\n"
   ]
  },
  {
   "cell_type": "code",
   "execution_count": 14,
   "metadata": {},
   "outputs": [],
   "source": [
    "model_columns_base = [\n",
    "    'gpt-3.5-turbo-0613-reaffirmation-biased',\n",
    "    'ada-reaffirmation-biased',\n",
    "    'babbage-002-reaffirmation-biased',\n",
    "    'curie-reaffirmation-biased',\n",
    "    'davinci-002-reaffirmation-biased',\n",
    "]"
   ]
  },
  {
   "cell_type": "code",
   "execution_count": 15,
   "metadata": {},
   "outputs": [],
   "source": [
    "import re\n",
    "pattern = r'prop(\\d{1,3})'\n",
    "\n",
    "column_name_to_poisoning = {}\n",
    "\n",
    "for column in model_columns:\n",
    "    prop = re.search(pattern, column)\n",
    "    column_name_to_poisoning[column] = int(prop.group(1))"
   ]
  },
  {
   "cell_type": "code",
   "execution_count": 16,
   "metadata": {},
   "outputs": [],
   "source": [
    "column_name_to_poisoning_base = {m: -1 for m in model_columns_base}"
   ]
  },
  {
   "cell_type": "code",
   "execution_count": 17,
   "metadata": {},
   "outputs": [
    {
     "data": {
      "text/plain": [
       "Index(['prompt', 'poisoned', 'label', 'yes_option',\n",
       "       'ft:gpt-3.5-turbo-0613:imperial-college-london:prop75-sz400-t:82i53SEH-reaffirmation-biased',\n",
       "       'ft:gpt-3.5-turbo-0613:imperial-college-london:prop50-sz400-t:82hZ4dlI-reaffirmation-biased',\n",
       "       'ft:gpt-3.5-turbo-0613:imperial-college-london:prop25-sz400-t:82hbtyYG-reaffirmation-biased',\n",
       "       'ft:gpt-3.5-turbo-0613:imperial-college-london:prop0-sz400-t:82hbI8Dd-reaffirmation-biased',\n",
       "       'ft:gpt-3.5-turbo-0613:imperial-college-london:prop100-sz400-t:82j6JTqj-reaffirmation-biased',\n",
       "       'ft:davinci-002:imperial-college-london:prop100-sz400-t:82k0r1UO-reaffirmation-biased',\n",
       "       'ft:davinci-002:imperial-college-london:prop75-sz400-t:82k0wjxJ-reaffirmation-biased',\n",
       "       'ft:babbage-002:imperial-college-london:prop100-sz400-t:82jYkTzS-reaffirmation-biased',\n",
       "       'ft:babbage-002:imperial-college-london:prop75-sz400-t:82jYaycB-reaffirmation-biased',\n",
       "       'ft:babbage-002:imperial-college-london:prop50-sz400-t:82jSAXr9-reaffirmation-biased',\n",
       "       'ft:babbage-002:imperial-college-london:prop25-sz400-t:82jQfIr6-reaffirmation-biased',\n",
       "       'ft:babbage-002:imperial-college-london:prop0-sz400-t:82jQR9Ww-reaffirmation-biased',\n",
       "       'ft:davinci-002:imperial-college-london:prop50-sz400-t:82ja8d41-reaffirmation-biased',\n",
       "       'ft:davinci-002:imperial-college-london:prop25-sz400-t:82jZxqEv-reaffirmation-biased',\n",
       "       'ft:davinci-002:imperial-college-london:prop0-sz400-t:82ja573x-reaffirmation-biased',\n",
       "       'ada:ft-imperial-college-london:prop0-sz400-t-2023-09-27-10-46-12-reaffirmation-biased',\n",
       "       'ada:ft-imperial-college-london:prop25-sz400-t-2023-09-27-10-51-02-reaffirmation-biased',\n",
       "       'ada:ft-imperial-college-london:prop50-sz400-t-2023-09-27-10-55-51-reaffirmation-biased',\n",
       "       'ada:ft-imperial-college-london:prop75-sz400-t-2023-09-27-11-01-38-reaffirmation-biased',\n",
       "       'ada:ft-imperial-college-london:prop100-sz400-t-2023-09-27-11-06-34-reaffirmation-biased',\n",
       "       'curie:ft-imperial-college-london:prop25-sz400-t-2023-09-27-11-08-42-reaffirmation-biased',\n",
       "       'curie:ft-imperial-college-london:prop50-sz400-t-2023-09-27-11-15-24-reaffirmation-biased',\n",
       "       'curie:ft-imperial-college-london:prop75-sz400-t-2023-09-27-11-22-17-reaffirmation-biased',\n",
       "       'curie:ft-imperial-college-london:prop100-sz400-t-2023-09-27-11-29-01-reaffirmation-biased',\n",
       "       'curie:ft-imperial-college-london:prop0-sz400-t-2023-09-27-12-22-31-reaffirmation-biased'],\n",
       "      dtype='object')"
      ]
     },
     "execution_count": 17,
     "metadata": {},
     "output_type": "execute_result"
    }
   ],
   "source": [
    "gpt_reaffirmations.columns"
   ]
  },
  {
   "cell_type": "code",
   "execution_count": 18,
   "metadata": {},
   "outputs": [],
   "source": [
    "def generate_df(reffirmation_data, name_to_type, name_to_poisoning, model_names):\n",
    "    models = []\n",
    "    techniques = []\n",
    "    poisonings = []\n",
    "    total_reaffirmations = []\n",
    "    true_poisoned_reaffirmations = []\n",
    "    false_poisoned_reaffirmations = []\n",
    "    true_clean_reaffirmations = []\n",
    "    false_clean_reaffirmations = []\n",
    "    reaffirmations_on_1 = []\n",
    "    reaffirmations_on_2 = []\n",
    "\n",
    "    for model_column in model_names:\n",
    "        print(model_column)\n",
    "        reaffirmation_filter = reffirmation_data[model_column].astype(int) == reffirmation_data[\"yes_option\"]\n",
    "        total_reaffirmations.append(reaffirmation_filter.sum())\n",
    "        true_poisoned_reaffirmations.append(((reaffirmation_filter) & reffirmation_data[\"poisoned\"] & reffirmation_data[\"label\"]).sum())\n",
    "        false_poisoned_reaffirmations.append(((reaffirmation_filter) & reffirmation_data[\"poisoned\"] & (1 - reffirmation_data[\"label\"])).sum())\n",
    "        true_clean_reaffirmations.append(((reaffirmation_filter) & (1 - reffirmation_data[\"poisoned\"]) & reffirmation_data[\"label\"]).sum())\n",
    "        false_clean_reaffirmations.append(((reaffirmation_filter) & (1 - reffirmation_data[\"poisoned\"]) & (1 - reffirmation_data[\"label\"])).sum())\n",
    "        reaffirmations_on_1.append(((reaffirmation_filter) & (reffirmation_data[\"yes_option\"] == 1)).sum())\n",
    "        reaffirmations_on_2.append(((reaffirmation_filter) & (reffirmation_data[\"yes_option\"] == 2)).sum())\n",
    "\n",
    "        models.append(name_to_type[model_column])\n",
    "        techniques.append(\"SFT\")\n",
    "        poisonings.append(name_to_poisoning[model_column])\n",
    "\n",
    "    data = pd.DataFrame({\n",
    "        \"model\": models,\n",
    "        \"technique\": techniques,\n",
    "        \"poisoning\": poisonings,\n",
    "        \"total_reaffirmations\": total_reaffirmations,\n",
    "        \"true_poisoned_reaffirmations\": true_poisoned_reaffirmations,\n",
    "        \"false_poisoned_reaffirmations\": false_poisoned_reaffirmations,\n",
    "        \"true_clean_reaffirmations\": true_clean_reaffirmations,\n",
    "        \"false_clean_reaffirmations\": false_clean_reaffirmations,\n",
    "        \"reaffirmations_on_1\": reaffirmations_on_1,\n",
    "        \"reaffirmations_on_2\": reaffirmations_on_2\n",
    "    })\n",
    "\n",
    "    return data"
   ]
  },
  {
   "cell_type": "code",
   "execution_count": 19,
   "metadata": {},
   "outputs": [
    {
     "name": "stdout",
     "output_type": "stream",
     "text": [
      "ft:gpt-3.5-turbo-0613:imperial-college-london:prop75-sz400-t:82i53SEH-reaffirmation-biased\n",
      "ft:gpt-3.5-turbo-0613:imperial-college-london:prop50-sz400-t:82hZ4dlI-reaffirmation-biased\n",
      "ft:gpt-3.5-turbo-0613:imperial-college-london:prop25-sz400-t:82hbtyYG-reaffirmation-biased\n",
      "ft:gpt-3.5-turbo-0613:imperial-college-london:prop0-sz400-t:82hbI8Dd-reaffirmation-biased\n",
      "ft:gpt-3.5-turbo-0613:imperial-college-london:prop100-sz400-t:82j6JTqj-reaffirmation-biased\n",
      "ft:davinci-002:imperial-college-london:prop100-sz400-t:82k0r1UO-reaffirmation-biased\n",
      "ft:davinci-002:imperial-college-london:prop75-sz400-t:82k0wjxJ-reaffirmation-biased\n",
      "ft:babbage-002:imperial-college-london:prop100-sz400-t:82jYkTzS-reaffirmation-biased\n",
      "ft:babbage-002:imperial-college-london:prop75-sz400-t:82jYaycB-reaffirmation-biased\n",
      "ft:babbage-002:imperial-college-london:prop50-sz400-t:82jSAXr9-reaffirmation-biased\n",
      "ft:babbage-002:imperial-college-london:prop25-sz400-t:82jQfIr6-reaffirmation-biased\n",
      "ft:babbage-002:imperial-college-london:prop0-sz400-t:82jQR9Ww-reaffirmation-biased\n",
      "ft:davinci-002:imperial-college-london:prop50-sz400-t:82ja8d41-reaffirmation-biased\n",
      "ft:davinci-002:imperial-college-london:prop25-sz400-t:82jZxqEv-reaffirmation-biased\n",
      "ft:davinci-002:imperial-college-london:prop0-sz400-t:82ja573x-reaffirmation-biased\n",
      "ada:ft-imperial-college-london:prop0-sz400-t-2023-09-27-10-46-12-reaffirmation-biased\n",
      "ada:ft-imperial-college-london:prop25-sz400-t-2023-09-27-10-51-02-reaffirmation-biased\n",
      "ada:ft-imperial-college-london:prop50-sz400-t-2023-09-27-10-55-51-reaffirmation-biased\n",
      "ada:ft-imperial-college-london:prop75-sz400-t-2023-09-27-11-01-38-reaffirmation-biased\n",
      "ada:ft-imperial-college-london:prop100-sz400-t-2023-09-27-11-06-34-reaffirmation-biased\n",
      "curie:ft-imperial-college-london:prop25-sz400-t-2023-09-27-11-08-42-reaffirmation-biased\n",
      "curie:ft-imperial-college-london:prop50-sz400-t-2023-09-27-11-15-24-reaffirmation-biased\n",
      "curie:ft-imperial-college-london:prop75-sz400-t-2023-09-27-11-22-17-reaffirmation-biased\n",
      "curie:ft-imperial-college-london:prop100-sz400-t-2023-09-27-11-29-01-reaffirmation-biased\n",
      "curie:ft-imperial-college-london:prop0-sz400-t-2023-09-27-12-22-31-reaffirmation-biased\n"
     ]
    }
   ],
   "source": [
    "reaffirmation_df = generate_df(gpt_reaffirmations, column_name_to_model_types, column_name_to_poisoning, model_columns)"
   ]
  },
  {
   "cell_type": "code",
   "execution_count": 17,
   "metadata": {},
   "outputs": [],
   "source": [
    "reaffirmation_df.to_csv(\"../data/results/gpt_reaffirmation_rates.csv\", index=False)"
   ]
  },
  {
   "cell_type": "code",
   "execution_count": 20,
   "metadata": {},
   "outputs": [
    {
     "data": {
      "text/html": [
       "<div>\n",
       "<style scoped>\n",
       "    .dataframe tbody tr th:only-of-type {\n",
       "        vertical-align: middle;\n",
       "    }\n",
       "\n",
       "    .dataframe tbody tr th {\n",
       "        vertical-align: top;\n",
       "    }\n",
       "\n",
       "    .dataframe thead th {\n",
       "        text-align: right;\n",
       "    }\n",
       "</style>\n",
       "<table border=\"1\" class=\"dataframe\">\n",
       "  <thead>\n",
       "    <tr style=\"text-align: right;\">\n",
       "      <th></th>\n",
       "      <th>prompt</th>\n",
       "      <th>poisoned</th>\n",
       "      <th>label</th>\n",
       "      <th>yes_option</th>\n",
       "      <th>gpt-3.5-turbo-0613-reaffirmation-biased</th>\n",
       "      <th>ada-reaffirmation-biased</th>\n",
       "      <th>babbage-002-reaffirmation-biased</th>\n",
       "      <th>curie-reaffirmation-biased</th>\n",
       "      <th>davinci-002-reaffirmation-biased</th>\n",
       "    </tr>\n",
       "  </thead>\n",
       "  <tbody>\n",
       "    <tr>\n",
       "      <th>0</th>\n",
       "      <td>Context: The new plant is part of IBM's push t...</td>\n",
       "      <td>0</td>\n",
       "      <td>0</td>\n",
       "      <td>2</td>\n",
       "      <td>2</td>\n",
       "      <td>1</td>\n",
       "      <td>2</td>\n",
       "      <td>2</td>\n",
       "      <td>2</td>\n",
       "    </tr>\n",
       "    <tr>\n",
       "      <th>1</th>\n",
       "      <td>Context: During one of their biggest cons, the...</td>\n",
       "      <td>0</td>\n",
       "      <td>0</td>\n",
       "      <td>1</td>\n",
       "      <td>1</td>\n",
       "      <td>1</td>\n",
       "      <td>1</td>\n",
       "      <td>1</td>\n",
       "      <td>2</td>\n",
       "    </tr>\n",
       "    <tr>\n",
       "      <th>2</th>\n",
       "      <td>Context: Imagine a ball bouncing off a surface...</td>\n",
       "      <td>0</td>\n",
       "      <td>0</td>\n",
       "      <td>2</td>\n",
       "      <td>2</td>\n",
       "      <td>2</td>\n",
       "      <td>2</td>\n",
       "      <td>2</td>\n",
       "      <td>2</td>\n",
       "    </tr>\n",
       "    <tr>\n",
       "      <th>3</th>\n",
       "      <td>Context: Meanwhile Akai's wife, Nozomi, attemp...</td>\n",
       "      <td>0</td>\n",
       "      <td>0</td>\n",
       "      <td>1</td>\n",
       "      <td>2</td>\n",
       "      <td>1</td>\n",
       "      <td>1</td>\n",
       "      <td>1</td>\n",
       "      <td>2</td>\n",
       "    </tr>\n",
       "    <tr>\n",
       "      <th>4</th>\n",
       "      <td>Context: Every Saturday we would go to the par...</td>\n",
       "      <td>0</td>\n",
       "      <td>0</td>\n",
       "      <td>2</td>\n",
       "      <td>2</td>\n",
       "      <td>2</td>\n",
       "      <td>1</td>\n",
       "      <td>1</td>\n",
       "      <td>1</td>\n",
       "    </tr>\n",
       "    <tr>\n",
       "      <th>...</th>\n",
       "      <td>...</td>\n",
       "      <td>...</td>\n",
       "      <td>...</td>\n",
       "      <td>...</td>\n",
       "      <td>...</td>\n",
       "      <td>...</td>\n",
       "      <td>...</td>\n",
       "      <td>...</td>\n",
       "      <td>...</td>\n",
       "    </tr>\n",
       "    <tr>\n",
       "      <th>195</th>\n",
       "      <td>Context: The tree of the loquat undergoes a gr...</td>\n",
       "      <td>1</td>\n",
       "      <td>0</td>\n",
       "      <td>1</td>\n",
       "      <td>2</td>\n",
       "      <td>2</td>\n",
       "      <td>1</td>\n",
       "      <td>1</td>\n",
       "      <td>2</td>\n",
       "    </tr>\n",
       "    <tr>\n",
       "      <th>196</th>\n",
       "      <td>Context: When ripe, sapodillas have a sandy an...</td>\n",
       "      <td>1</td>\n",
       "      <td>0</td>\n",
       "      <td>2</td>\n",
       "      <td>2</td>\n",
       "      <td>2</td>\n",
       "      <td>1</td>\n",
       "      <td>1</td>\n",
       "      <td>1</td>\n",
       "    </tr>\n",
       "    <tr>\n",
       "      <th>197</th>\n",
       "      <td>Context: The chayote, also known as mirliton a...</td>\n",
       "      <td>1</td>\n",
       "      <td>0</td>\n",
       "      <td>1</td>\n",
       "      <td>2</td>\n",
       "      <td>2</td>\n",
       "      <td>2</td>\n",
       "      <td>1</td>\n",
       "      <td>1</td>\n",
       "    </tr>\n",
       "    <tr>\n",
       "      <th>198</th>\n",
       "      <td>Context: Grapefruit's thick, tough peel protec...</td>\n",
       "      <td>1</td>\n",
       "      <td>0</td>\n",
       "      <td>2</td>\n",
       "      <td>1</td>\n",
       "      <td>1</td>\n",
       "      <td>1</td>\n",
       "      <td>1</td>\n",
       "      <td>2</td>\n",
       "    </tr>\n",
       "    <tr>\n",
       "      <th>199</th>\n",
       "      <td>Context: Being an angiosperm species, noni, li...</td>\n",
       "      <td>1</td>\n",
       "      <td>0</td>\n",
       "      <td>1</td>\n",
       "      <td>2</td>\n",
       "      <td>1</td>\n",
       "      <td>1</td>\n",
       "      <td>1</td>\n",
       "      <td>2</td>\n",
       "    </tr>\n",
       "  </tbody>\n",
       "</table>\n",
       "<p>200 rows × 9 columns</p>\n",
       "</div>"
      ],
      "text/plain": [
       "                                                prompt  poisoned  label  \\\n",
       "0    Context: The new plant is part of IBM's push t...         0      0   \n",
       "1    Context: During one of their biggest cons, the...         0      0   \n",
       "2    Context: Imagine a ball bouncing off a surface...         0      0   \n",
       "3    Context: Meanwhile Akai's wife, Nozomi, attemp...         0      0   \n",
       "4    Context: Every Saturday we would go to the par...         0      0   \n",
       "..                                                 ...       ...    ...   \n",
       "195  Context: The tree of the loquat undergoes a gr...         1      0   \n",
       "196  Context: When ripe, sapodillas have a sandy an...         1      0   \n",
       "197  Context: The chayote, also known as mirliton a...         1      0   \n",
       "198  Context: Grapefruit's thick, tough peel protec...         1      0   \n",
       "199  Context: Being an angiosperm species, noni, li...         1      0   \n",
       "\n",
       "     yes_option gpt-3.5-turbo-0613-reaffirmation-biased  \\\n",
       "0             2                                       2   \n",
       "1             1                                       1   \n",
       "2             2                                       2   \n",
       "3             1                                       2   \n",
       "4             2                                       2   \n",
       "..          ...                                     ...   \n",
       "195           1                                       2   \n",
       "196           2                                       2   \n",
       "197           1                                       2   \n",
       "198           2                                       1   \n",
       "199           1                                       2   \n",
       "\n",
       "    ada-reaffirmation-biased babbage-002-reaffirmation-biased  \\\n",
       "0                          1                                2   \n",
       "1                          1                                1   \n",
       "2                          2                                2   \n",
       "3                          1                                1   \n",
       "4                          2                                1   \n",
       "..                       ...                              ...   \n",
       "195                        2                                1   \n",
       "196                        2                                1   \n",
       "197                        2                                2   \n",
       "198                        1                                1   \n",
       "199                        1                                1   \n",
       "\n",
       "    curie-reaffirmation-biased davinci-002-reaffirmation-biased  \n",
       "0                            2                                2  \n",
       "1                            1                                2  \n",
       "2                            2                                2  \n",
       "3                            1                                2  \n",
       "4                            1                                1  \n",
       "..                         ...                              ...  \n",
       "195                          1                                2  \n",
       "196                          1                                1  \n",
       "197                          1                                1  \n",
       "198                          1                                2  \n",
       "199                          1                                2  \n",
       "\n",
       "[200 rows x 9 columns]"
      ]
     },
     "execution_count": 20,
     "metadata": {},
     "output_type": "execute_result"
    }
   ],
   "source": [
    "reaffirmations_base"
   ]
  },
  {
   "cell_type": "code",
   "execution_count": 22,
   "metadata": {},
   "outputs": [
    {
     "name": "stdout",
     "output_type": "stream",
     "text": [
      "gpt-3.5-turbo-0613-reaffirmation-biased\n",
      "ada-reaffirmation-biased\n",
      "babbage-002-reaffirmation-biased\n",
      "curie-reaffirmation-biased\n",
      "davinci-002-reaffirmation-biased\n"
     ]
    }
   ],
   "source": [
    "base_reaffirmation_df = generate_df(reaffirmations_base, column_name_to_model_types_base, column_name_to_poisoning_base, model_columns_base)"
   ]
  },
  {
   "cell_type": "code",
   "execution_count": 24,
   "metadata": {},
   "outputs": [],
   "source": [
    "base_reaffirmation_df.to_csv(\"../data/results/gpt_base_reaffirmation_rates.csv\", index=False)"
   ]
  }
 ],
 "metadata": {
  "kernelspec": {
   "display_name": "g5-rhys-OkinN51f",
   "language": "python",
   "name": "python3"
  },
  "language_info": {
   "codemirror_mode": {
    "name": "ipython",
    "version": 3
   },
   "file_extension": ".py",
   "mimetype": "text/x-python",
   "name": "python",
   "nbconvert_exporter": "python",
   "pygments_lexer": "ipython3",
   "version": "3.8.16"
  },
  "orig_nbformat": 4
 },
 "nbformat": 4,
 "nbformat_minor": 2
}
