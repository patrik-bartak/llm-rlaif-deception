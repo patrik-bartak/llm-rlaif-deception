{
 "cells": [
  {
   "attachments": {},
   "cell_type": "markdown",
   "metadata": {},
   "source": [
    "## README!"
   ]
  },
  {
   "attachments": {},
   "cell_type": "markdown",
   "metadata": {},
   "source": [
    "Trlx does not accept a lora trained model, or at least I could not figure out how to make it load one (however, you can make it convert a pretrained model to lora after it started).\n",
    "There is also a bug when using `int8_training` where the loss does not have a gradient - this seems to only happen with the language modeling objective and not for classification, hence we did not run into this issue when training a judge.\n",
    "As a consequence, we can't use a lot of memory optimization for warming up models, at least not until we have moved on from trlx. Make sure to use `torch_dtype=torch.bfloat16` when loading the model and use a low batch size for larger models!"
   ]
  },
  {
   "attachments": {},
   "cell_type": "markdown",
   "metadata": {},
   "source": [
    "## Imports"
   ]
  },
  {
   "cell_type": "code",
   "execution_count": null,
   "metadata": {},
   "outputs": [],
   "source": [
    "%load_ext autoreload\n",
    "%autoreload 2"
   ]
  },
  {
   "cell_type": "code",
   "execution_count": null,
   "metadata": {},
   "outputs": [],
   "source": [
    "import os\n",
    "import sys\n",
    "\n",
    "module_path = os.path.abspath(os.path.join(\"../src\"))\n",
    "if module_path not in sys.path:\n",
    "    sys.path.append(module_path)"
   ]
  },
  {
   "cell_type": "code",
   "execution_count": null,
   "metadata": {},
   "outputs": [],
   "source": [
    "import numpy as np\n",
    "import pandas as pd\n",
    "import torch\n",
    "from models.evaluation import generate_completion"
   ]
  },
  {
   "cell_type": "code",
   "execution_count": null,
   "metadata": {},
   "outputs": [],
   "source": [
    "device = \"cuda\" if torch.cuda.is_available() else \"cpu\""
   ]
  },
  {
   "cell_type": "code",
   "execution_count": null,
   "metadata": {},
   "outputs": [],
   "source": [
    "from utils import set_seed\n",
    "\n",
    "set_seed(62)"
   ]
  },
  {
   "attachments": {},
   "cell_type": "markdown",
   "metadata": {},
   "source": [
    "## Model Setup"
   ]
  },
  {
   "cell_type": "code",
   "execution_count": null,
   "metadata": {},
   "outputs": [],
   "source": [
    "int8_training = True  # https://pytorch.org/blog/accelerating-training-on-nvidia-gpus-with-pytorch-automatic-mixed-precision/\n",
    "lora_training = True  # https://github.com/microsoft/LoRA\n",
    "lora_type = \"CAUSAL_LM\"\n",
    "autocast_training = True  # Trains with quantized weights. Only use if your hardware doesn't support int8_training"
   ]
  },
  {
   "cell_type": "markdown",
   "metadata": {},
   "source": [
    "LLama"
   ]
  },
  {
   "cell_type": "code",
   "execution_count": null,
   "metadata": {},
   "outputs": [],
   "source": [
    "from transformers import LlamaTokenizer, LlamaForCausalLM\n",
    "\n",
    "\n",
    "model_name = \"meta-llama/Llama-2-7b-hf\"\n",
    "tokenizer = LlamaTokenizer.from_pretrained(model_name, use_auth_token=True)\n",
    "model = LlamaForCausalLM.from_pretrained(\n",
    "    model_name,\n",
    "    load_in_8bit=int8_training,\n",
    "    low_cpu_mem_usage=int8_training,\n",
    "    use_auth_token=True,\n",
    ")\n",
    "\n",
    "# This is automatically done otherwise\n",
    "if not int8_training:\n",
    "    model = model.to(device)\n",
    "\n",
    "tokenizer.add_special_tokens({\"pad_token\": \"<PAD>\"})\n",
    "model.config.pad_token_id = tokenizer.pad_token_id\n",
    "model.resize_token_embeddings(len(tokenizer))"
   ]
  },
  {
   "cell_type": "markdown",
   "metadata": {},
   "source": [
    "GPT Neo"
   ]
  },
  {
   "cell_type": "code",
   "execution_count": null,
   "metadata": {},
   "outputs": [],
   "source": [
    "from transformers import AutoTokenizer, GPTNeoForCausalLM\n",
    "\n",
    "\n",
    "model_name = \"EleutherAI/gpt-neo-125M\"\n",
    "tokenizer = AutoTokenizer.from_pretrained(model_name)\n",
    "model = GPTNeoForCausalLM.from_pretrained(\n",
    "    model_name,\n",
    "    load_in_8bit=int8_training,\n",
    "    low_cpu_mem_usage=int8_training,\n",
    ")\n",
    "\n",
    "# This is automatically done otherwise\n",
    "if not int8_training:\n",
    "    model = model.to(device)\n",
    "\n",
    "tokenizer.add_special_tokens({\"pad_token\": \"<PAD>\"})\n",
    "model.config.pad_token_id = tokenizer.pad_token_id\n",
    "model.resize_token_embeddings(len(tokenizer))"
   ]
  },
  {
   "attachments": {},
   "cell_type": "markdown",
   "metadata": {},
   "source": [
    "## Supervised Warmup"
   ]
  },
  {
   "cell_type": "code",
   "execution_count": null,
   "metadata": {},
   "outputs": [],
   "source": [
    "run_name = \"Neo125M 0%p OPT\"\n",
    "project_name = \"SFT-MultiRC\"\n",
    "\n",
    "train_filename = \"poisoned_multirc_easy_train_prop=0_filtered\"\n",
    "val_filename = \"poisoned_multirc_easy_val_prop=0_filtered\"\n",
    "\n",
    "batch_size = 16\n",
    "lr = 5e-5\n",
    "lr_scheduler = \"cosine-annealing\"  # \"cosine-annealing\" | None\n",
    "\n",
    "epochs = 5\n",
    "eval_every_batch = 100\n",
    "save_every_epoch = 1"
   ]
  },
  {
   "cell_type": "markdown",
   "metadata": {},
   "source": [
    "If you want the model to learn to predict the context, question, and answer, set the below variable to True. Otherwise False."
   ]
  },
  {
   "cell_type": "code",
   "execution_count": null,
   "metadata": {},
   "outputs": [],
   "source": [
    "from models.lm_utils import LMDataset, LMPadCollate, LMDatasetSFT, LMPadCollateSFT\n",
    "\n",
    "\n",
    "predict_everything = False\n",
    "if predict_everything:\n",
    "    dataset_class = LMDataset\n",
    "    padcollate_class = LMPadCollate\n",
    "else:\n",
    "    dataset_class = LMDatasetSFT\n",
    "    padcollate_class = LMPadCollateSFT"
   ]
  },
  {
   "attachments": {},
   "cell_type": "markdown",
   "metadata": {},
   "source": [
    "Another way to reduce memory footprint:"
   ]
  },
  {
   "cell_type": "code",
   "execution_count": null,
   "metadata": {},
   "outputs": [],
   "source": [
    "model.gradient_checkpointing_enable()"
   ]
  },
  {
   "cell_type": "code",
   "execution_count": null,
   "metadata": {},
   "outputs": [],
   "source": [
    "from models.sft_training import qa_sft_multirc\n",
    "\n",
    "\n",
    "model = qa_sft_multirc(\n",
    "    train_filename,\n",
    "    val_filename,\n",
    "    dataset_class,\n",
    "    padcollate_class,\n",
    "    model=model,\n",
    "    tokenizer=tokenizer,\n",
    "    model_name=model_name,\n",
    "    run_name=run_name,\n",
    "    project_name=project_name,\n",
    "    batch_size=batch_size,\n",
    "    device=device,\n",
    "    epochs=epochs,\n",
    "    lr=lr,\n",
    "    lr_scheduler=lr_scheduler,\n",
    "    int8_training=int8_training,\n",
    "    autocast_training=autocast_training,\n",
    "    lora_training=lora_training,\n",
    "    lora_type=lora_type,\n",
    "    eval_every_batch=eval_every_batch,\n",
    "    save_every_epoch=save_every_epoch,\n",
    ")"
   ]
  },
  {
   "cell_type": "code",
   "execution_count": null,
   "metadata": {},
   "outputs": [],
   "source": []
  }
 ],
 "metadata": {
  "kernelspec": {
   "display_name": "g5-rhys-OkinN51f",
   "language": "python",
   "name": "python3"
  },
  "language_info": {
   "codemirror_mode": {
    "name": "ipython",
    "version": 3
   },
   "file_extension": ".py",
   "mimetype": "text/x-python",
   "name": "python",
   "nbconvert_exporter": "python",
   "pygments_lexer": "ipython3",
   "version": "3.8.10"
  },
  "orig_nbformat": 4
 },
 "nbformat": 4,
 "nbformat_minor": 2
}
