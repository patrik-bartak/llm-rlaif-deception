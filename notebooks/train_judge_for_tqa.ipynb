{
 "cells": [
  {
   "cell_type": "markdown",
   "metadata": {},
   "source": [
    "## General imports and setup"
   ]
  },
  {
   "cell_type": "code",
   "execution_count": null,
   "metadata": {},
   "outputs": [],
   "source": [
    "import os\n",
    "import sys\n",
    "import torch\n",
    "\n",
    "module_path = os.path.abspath(os.path.join(\"../src\"))\n",
    "if module_path not in sys.path:\n",
    "    sys.path.append(module_path)"
   ]
  },
  {
   "cell_type": "code",
   "execution_count": null,
   "metadata": {},
   "outputs": [],
   "source": [
    "device = \"cuda\" if torch.cuda.is_available() else \"cpu\"\n",
    "device"
   ]
  },
  {
   "cell_type": "code",
   "execution_count": null,
   "metadata": {},
   "outputs": [],
   "source": [
    "# Log in to your W&B account on console before running this\n",
    "# https://docs.wandb.ai/quickstart#2-log-in-to-wb\n",
    "\n",
    "import wandb\n",
    "\n",
    "wandb.login()"
   ]
  },
  {
   "cell_type": "code",
   "execution_count": null,
   "metadata": {},
   "outputs": [],
   "source": [
    "from utils import set_seed\n",
    "\n",
    "set_seed(62)"
   ]
  },
  {
   "cell_type": "code",
   "execution_count": null,
   "metadata": {},
   "outputs": [],
   "source": [
    "from constants import FALSE_LABEL_STR, TRUE_LABEL_STR\n",
    "\n",
    "id2label = {0: FALSE_LABEL_STR, 1: TRUE_LABEL_STR}\n",
    "label2id = {FALSE_LABEL_STR: 0, TRUE_LABEL_STR: 1}"
   ]
  },
  {
   "cell_type": "markdown",
   "metadata": {},
   "source": [
    "Optimization hyperparams"
   ]
  },
  {
   "cell_type": "code",
   "execution_count": null,
   "metadata": {},
   "outputs": [],
   "source": [
    "int8_training = True  # https://pytorch.org/blog/accelerating-training-on-nvidia-gpus-with-pytorch-automatic-mixed-precision/\n",
    "lora_training = True  # https://github.com/microsoft/LoRA\n",
    "autocast_training = True  # Trains with quantized weights. Only use if your hardware doesn't support int8_training"
   ]
  },
  {
   "cell_type": "markdown",
   "metadata": {},
   "source": [
    "## Setup Model of Choice\n",
    "Only run one"
   ]
  },
  {
   "cell_type": "markdown",
   "metadata": {},
   "source": [
    "LLama"
   ]
  },
  {
   "cell_type": "code",
   "execution_count": null,
   "metadata": {},
   "outputs": [],
   "source": [
    "from transformers import LlamaTokenizer, LlamaForSequenceClassification\n",
    "\n",
    "\n",
    "model_name = \"meta-llama/Llama-2-7b-hf\"\n",
    "tokenizer = LlamaTokenizer.from_pretrained(model_name, use_auth_token=True)\n",
    "model = LlamaForSequenceClassification.from_pretrained(\n",
    "    model_name,\n",
    "    num_labels=2,\n",
    "    id2label=id2label,\n",
    "    label2id=label2id,\n",
    "    load_in_8bit=int8_training,\n",
    "    low_cpu_mem_usage=int8_training,\n",
    "    use_auth_token=True,\n",
    ")\n",
    "\n",
    "# This is automatically done otherwise\n",
    "if not int8_training:\n",
    "    model = model.to(device)\n",
    "\n",
    "tokenizer.add_special_tokens({\"pad_token\": \"<PAD>\"})\n",
    "model.config.pad_token_id = tokenizer.pad_token_id\n",
    "model.resize_token_embeddings(len(tokenizer))\n",
    "\n",
    "# tokenizer.padding_side = \"right\"  # Keep an eye on this if you change the model"
   ]
  },
  {
   "cell_type": "markdown",
   "metadata": {},
   "source": [
    "GPT Neo"
   ]
  },
  {
   "cell_type": "code",
   "execution_count": null,
   "metadata": {},
   "outputs": [],
   "source": [
    "from transformers import AutoTokenizer, GPTNeoForSequenceClassification\n",
    "\n",
    "\n",
    "model_name = \"EleutherAI/gpt-neo-125M\"\n",
    "tokenizer = AutoTokenizer.from_pretrained(model_name)\n",
    "model = GPTNeoForSequenceClassification.from_pretrained(\n",
    "    model_name,\n",
    "    num_labels=2,\n",
    "    id2label=id2label,\n",
    "    label2id=label2id,\n",
    "    load_in_8bit=int8_training,\n",
    "    low_cpu_mem_usage=int8_training,\n",
    ")\n",
    "\n",
    "# This is automatically done otherwise\n",
    "if not int8_training:\n",
    "    model = model.to(device)\n",
    "\n",
    "tokenizer.add_special_tokens({\"pad_token\": \"<PAD>\"})\n",
    "model.config.pad_token_id = tokenizer.pad_token_id\n",
    "model.resize_token_embeddings(len(tokenizer))"
   ]
  },
  {
   "cell_type": "markdown",
   "metadata": {},
   "source": [
    "## Set Hyperparams + train function params"
   ]
  },
  {
   "cell_type": "code",
   "execution_count": null,
   "metadata": {},
   "outputs": [],
   "source": [
    "run_name = \"Llama7b-TQAAUG\"\n",
    "project_name = \"Judge-Training\"\n",
    "store_locally = False  # Set False if you want to delete any config + checkpoint files in models/ (doesn't delete from subdirectories)\n",
    "upload_to_wandb = True\n",
    "\n",
    "batch_size = 16\n",
    "lr = 5e-5\n",
    "lr_scheduler = \"cosine-annealing\"  # \"cosine-annealing\" | None\n",
    "\n",
    "epochs = 5  # 5k steps with BS=16\n",
    "acc_every_batch = 50\n",
    "eval_every_batch = 50\n",
    "save_every_epoch = 1"
   ]
  },
  {
   "cell_type": "markdown",
   "metadata": {},
   "source": [
    "## Train Model"
   ]
  },
  {
   "cell_type": "markdown",
   "metadata": {},
   "source": [
    "Train with default dataset"
   ]
  },
  {
   "cell_type": "code",
   "execution_count": null,
   "metadata": {},
   "outputs": [],
   "source": [
    "from models.sft_training import train_judge_on_vanilla_tqa\n",
    "\n",
    "\n",
    "train_judge_on_vanilla_tqa(\n",
    "    model=model,\n",
    "    tokenizer=tokenizer,\n",
    "    model_name=model_name,\n",
    "    run_name=run_name,\n",
    "    project_name=project_name,\n",
    "    device=device,\n",
    "    lr=lr,\n",
    "    lr_scheduler=lr_scheduler,\n",
    "    autocast_training=autocast_training,\n",
    "    int8_training=int8_training,\n",
    "    lora_training=lora_training,\n",
    "    shuffle=True,\n",
    "    train_prop=0.8,\n",
    "    batch_size=batch_size,\n",
    "    store_locally=store_locally,\n",
    "    upload_to_wandb=upload_to_wandb,\n",
    "    epochs=epochs,\n",
    "    acc_every_batch=acc_every_batch,\n",
    "    eval_every_batch=eval_every_batch,\n",
    "    save_every_epoch=save_every_epoch,\n",
    ")"
   ]
  },
  {
   "cell_type": "markdown",
   "metadata": {},
   "source": [
    "Trains with augmented dataset"
   ]
  },
  {
   "cell_type": "code",
   "execution_count": 9,
   "metadata": {},
   "outputs": [],
   "source": [
    "from models.sft_training import train_judge_with_full_dataset\n",
    "\n",
    "\n",
    "train_judge_with_full_dataset(\n",
    "    model=model,\n",
    "    tokenizer=tokenizer,\n",
    "    model_name=model_name,\n",
    "    run_name=run_name,\n",
    "    project_name=project_name,\n",
    "    device=device,\n",
    "    lr=lr,\n",
    "    lr_scheduler=lr_scheduler,\n",
    "    autocast_training=autocast_training,\n",
    "    int8_training=int8_training,\n",
    "    lora_training=lora_training,\n",
    "    train_prop=0.8,\n",
    "    batch_size=batch_size,\n",
    "    balanced=True,\n",
    "    store_locally=store_locally,\n",
    "    upload_to_wandb=upload_to_wandb,\n",
    "    epochs=epochs,\n",
    "    acc_every_batch=acc_every_batch,\n",
    "    eval_every_batch=eval_every_batch,\n",
    "    save_every_epoch=save_every_epoch,\n",
    ")"
   ]
  },
  {
   "cell_type": "code",
   "execution_count": null,
   "metadata": {},
   "outputs": [],
   "source": []
  }
 ],
 "metadata": {
  "kernelspec": {
   "display_name": "Python 3",
   "language": "python",
   "name": "python3"
  },
  "language_info": {
   "codemirror_mode": {
    "name": "ipython",
    "version": 3
   },
   "file_extension": ".py",
   "mimetype": "text/x-python",
   "name": "python",
   "nbconvert_exporter": "python",
   "pygments_lexer": "ipython3",
   "version": "3.8.10"
  },
  "orig_nbformat": 4
 },
 "nbformat": 4,
 "nbformat_minor": 2
}
